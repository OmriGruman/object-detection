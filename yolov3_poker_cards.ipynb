{
  "nbformat": 4,
  "nbformat_minor": 0,
  "metadata": {
    "colab": {
      "provenance": [],
      "include_colab_link": true
    },
    "kernelspec": {
      "name": "python3",
      "display_name": "Python 3"
    },
    "language_info": {
      "name": "python"
    },
    "accelerator": "GPU",
    "gpuClass": "standard"
  },
  "cells": [
    {
      "cell_type": "markdown",
      "metadata": {
        "id": "view-in-github",
        "colab_type": "text"
      },
      "source": [
        "<a href=\"https://colab.research.google.com/github/OmriGruman/object-detection/blob/master/yolov3_poker_cards.ipynb\" target=\"_parent\"><img src=\"https://colab.research.google.com/assets/colab-badge.svg\" alt=\"Open In Colab\"/></a>"
      ]
    },
    {
      "cell_type": "markdown",
      "source": [
        "# Setup\n",
        "\n",
        "Clone repo, install dependencies and check PyTorch and GPU."
      ],
      "metadata": {
        "id": "XPToKwfmNbkz"
      }
    },
    {
      "cell_type": "code",
      "execution_count": 1,
      "metadata": {
        "colab": {
          "base_uri": "https://localhost:8080/"
        },
        "id": "59V6wlKsNIl7",
        "outputId": "5c17e656-79c4-4842-ce98-66b86005d00f"
      },
      "outputs": [
        {
          "output_type": "stream",
          "name": "stderr",
          "text": [
            "YOLOv3 🚀 v9.6.0-46-gca9a981 Python-3.8.10 torch-1.13.1+cu116 CUDA:0 (Tesla T4, 15102MiB)\n"
          ]
        },
        {
          "output_type": "stream",
          "name": "stdout",
          "text": [
            "Setup complete ✅ (2 CPUs, 12.7 GB RAM, 25.9/78.2 GB disk)\n"
          ]
        }
      ],
      "source": [
        "!git clone https://github.com/ultralytics/yolov3  # clone\n",
        "%cd yolov3\n",
        "%pip install -qr requirements.txt  # install\n",
        "\n",
        "import torch\n",
        "from yolov3 import utils\n",
        "display = utils.notebook_init()  # checks"
      ]
    },
    {
      "cell_type": "markdown",
      "source": [
        "Some important parameters throughout the project"
      ],
      "metadata": {
        "id": "5wuRyNtXEk8U"
      }
    },
    {
      "cell_type": "markdown",
      "source": [
        "CURRENCY = https://universe.roboflow.com/ds/kCykUm7ZFj?key=Tt6fZrPf98"
      ],
      "metadata": {
        "id": "vzTCVxh0DChe"
      }
    },
    {
      "cell_type": "code",
      "source": [
        "DATASET_LINK = \"https://universe.roboflow.com/ds/GqTXeS669Z?key=a6UCBne4GF\"\n",
        "\n",
        "PROJECT_NAME = \"poker-cards\" "
      ],
      "metadata": {
        "id": "iKp8Vje1EkRY"
      },
      "execution_count": 2,
      "outputs": []
    },
    {
      "cell_type": "markdown",
      "source": [
        "#Data"
      ],
      "metadata": {
        "id": "Ynm9XDYZR5_b"
      }
    },
    {
      "cell_type": "markdown",
      "source": [
        "Download dataset"
      ],
      "metadata": {
        "id": "40EmWrSEaG_N"
      }
    },
    {
      "cell_type": "code",
      "source": [
        "%cd /content\n",
        "\n",
        "!mkdir datasets\n",
        "!curl -L {DATASET_LINK} > roboflow.zip\n",
        "!unzip -q roboflow.zip -d /content/datasets/{PROJECT_NAME}\n",
        "!rm roboflow.zip"
      ],
      "metadata": {
        "colab": {
          "base_uri": "https://localhost:8080/"
        },
        "id": "jrEYVpR4T93D",
        "outputId": "23356a2c-a482-41d5-b9f0-5479b97afa7f"
      },
      "execution_count": 3,
      "outputs": [
        {
          "output_type": "stream",
          "name": "stdout",
          "text": [
            "/content\n",
            "  % Total    % Received % Xferd  Average Speed   Time    Time     Time  Current\n",
            "                                 Dload  Upload   Total   Spent    Left  Speed\n",
            "100   887  100   887    0     0   2142      0 --:--:-- --:--:-- --:--:--  2142\n",
            "100 92.4M  100 92.4M    0     0  12.9M      0  0:00:07  0:00:07 --:--:-- 19.4M\n"
          ]
        }
      ]
    },
    {
      "cell_type": "markdown",
      "source": [
        "Read classes"
      ],
      "metadata": {
        "id": "RP1VeLUBbP9C"
      }
    },
    {
      "cell_type": "code",
      "source": [
        "%cd /content/datasets/{PROJECT_NAME}/test\n",
        "\n",
        "with open(\"_darknet.labels\", 'r') as f:\n",
        "    class_names = f.read().split('\\n')\n",
        "class_names"
      ],
      "metadata": {
        "colab": {
          "base_uri": "https://localhost:8080/"
        },
        "id": "_bIyjkQSdflt",
        "outputId": "c3d3dd28-6216-4878-d0d2-fe0e9ebffc34"
      },
      "execution_count": 4,
      "outputs": [
        {
          "output_type": "stream",
          "name": "stdout",
          "text": [
            "/content/datasets/poker-cards/test\n"
          ]
        },
        {
          "output_type": "execute_result",
          "data": {
            "text/plain": [
              "['10 Diamonds',\n",
              " '10 Hearts',\n",
              " '10 Spades',\n",
              " '10 Trefoils',\n",
              " '2 Diamonds',\n",
              " '2 Hearts',\n",
              " '2 Spades',\n",
              " '2 Trefoils',\n",
              " '3 Diamonds',\n",
              " '3 Hearts',\n",
              " '3 Spades',\n",
              " '3 Trefoils',\n",
              " '4 Diamonds',\n",
              " '4 Hearts',\n",
              " '4 Spades',\n",
              " '4 Trefoils',\n",
              " '5 Diamonds',\n",
              " '5 Hearts',\n",
              " '5 Spades',\n",
              " '5 Trefoils',\n",
              " '59',\n",
              " '6 Diamonds',\n",
              " '6 Hearts',\n",
              " '6 Spades',\n",
              " '6 Trefoils',\n",
              " '7 Diamonds',\n",
              " '7 Hearts',\n",
              " '7 Spades',\n",
              " '7 Trefoils',\n",
              " '8 Diamonds',\n",
              " '8 Hearts',\n",
              " '8 Spades',\n",
              " '8 Trefoils',\n",
              " '9 Diamonds',\n",
              " '9 Hearts',\n",
              " '9 Spades',\n",
              " '9 Trefoils',\n",
              " 'A Diamonds',\n",
              " 'A Hearts',\n",
              " 'A Spades',\n",
              " 'A Trefoils',\n",
              " 'J Diamonds',\n",
              " 'J Hearts',\n",
              " 'J Spades',\n",
              " 'J Trefoils',\n",
              " 'K Diamonds',\n",
              " 'K Hearts',\n",
              " 'K Spades',\n",
              " 'K Trefoils',\n",
              " 'Q Diamonds',\n",
              " 'Q Hearts',\n",
              " 'Q Spades',\n",
              " 'Q Trefoils']"
            ]
          },
          "metadata": {},
          "execution_count": 4
        }
      ]
    },
    {
      "cell_type": "markdown",
      "source": [
        "Prepare data"
      ],
      "metadata": {
        "id": "wqj_nZ11w2nO"
      }
    },
    {
      "cell_type": "code",
      "source": [
        "%cd /content/datasets/{PROJECT_NAME}\n",
        "\n",
        "!mkdir images labels images/train images/valid images/test labels/train labels/valid labels/test\n",
        "!mv train/*.jpg images/train\n",
        "!mv valid/*.jpg images/valid\n",
        "!mv test/*.jpg images/test\n",
        "!mv train/*.txt labels/train\n",
        "!mv valid/*.txt labels/valid\n",
        "!mv test/*.txt labels/test\n",
        "!rm -r train valid test"
      ],
      "metadata": {
        "colab": {
          "base_uri": "https://localhost:8080/"
        },
        "id": "y5ZXUYUYtLYP",
        "outputId": "e981010a-43fa-4d96-cc57-b8ca5b611796"
      },
      "execution_count": 5,
      "outputs": [
        {
          "output_type": "stream",
          "name": "stdout",
          "text": [
            "/content/datasets/poker-cards\n"
          ]
        }
      ]
    },
    {
      "cell_type": "markdown",
      "source": [
        "Construct yaml file for the data"
      ],
      "metadata": {
        "id": "4IXt96N4ZIT-"
      }
    },
    {
      "cell_type": "code",
      "source": [
        "%cd /content/yolov3/data\n",
        "\n",
        "import yaml\n",
        "\n",
        "data_dir_path = f\"../datasets/{PROJECT_NAME}\"\n",
        "train_path = \"images/train\"\n",
        "valid_path = \"images/valid\"\n",
        "test_path = \"images/valid\"\n",
        "\n",
        "yaml_content = {\n",
        "    'path': data_dir_path,\n",
        "    'train': train_path,\n",
        "    'val': valid_path,\n",
        "    'test': test_path,\n",
        "    'names': {\n",
        "        i: name for i, name in enumerate(class_names)\n",
        "    }\n",
        "}\n",
        "\n",
        "with open(f\"{PROJECT_NAME}.yaml\", 'w') as f:\n",
        "    f.write(yaml.dump(yaml_content))"
      ],
      "metadata": {
        "colab": {
          "base_uri": "https://localhost:8080/"
        },
        "id": "5wrNpT6AZH5G",
        "outputId": "5be85680-2645-4945-a44c-b93afde9df01"
      },
      "execution_count": 6,
      "outputs": [
        {
          "output_type": "stream",
          "name": "stdout",
          "text": [
            "/content/yolov3/data\n"
          ]
        }
      ]
    },
    {
      "cell_type": "markdown",
      "source": [
        "#Train"
      ],
      "metadata": {
        "id": "6zoWA9YqQiIX"
      }
    },
    {
      "cell_type": "markdown",
      "source": [
        "Train pretrained yolov3 model on custom data"
      ],
      "metadata": {
        "id": "4G5Qv5CAxYAe"
      }
    },
    {
      "cell_type": "code",
      "source": [
        "%cd /content/yolov3\n",
        "\n",
        "# Run YOLOv3 on custom data\n",
        "!python train.py --weights yolov3.pt --data {PROJECT_NAME}.yaml --name {PROJECT_NAME} --freeze 11 --patience 10 "
      ],
      "metadata": {
        "colab": {
          "base_uri": "https://localhost:8080/"
        },
        "id": "1VU9mnMYi4Jg",
        "outputId": "d0c7199c-9686-4347-a809-5006a2083c4e"
      },
      "execution_count": null,
      "outputs": [
        {
          "output_type": "stream",
          "name": "stdout",
          "text": [
            "/content/yolov3\n",
            "\u001b[34m\u001b[1mtrain: \u001b[0mweights=yolov3.pt, cfg=, data=poker-cards.yaml, hyp=data/hyps/hyp.scratch-low.yaml, epochs=100, batch_size=16, imgsz=640, rect=False, resume=False, nosave=False, noval=False, noautoanchor=False, noplots=False, evolve=None, bucket=, cache=None, image_weights=False, device=, multi_scale=False, single_cls=False, optimizer=SGD, sync_bn=False, workers=8, project=runs/train, name=poker-cards, exist_ok=False, quad=False, cos_lr=False, label_smoothing=0.0, patience=10, freeze=[11], save_period=-1, seed=0, local_rank=-1, entity=None, upload_dataset=False, bbox_interval=-1, artifact_alias=latest\n",
            "warning: no common commits\n",
            "remote: Enumerating objects: 15274, done.\u001b[K\n",
            "remote: Counting objects: 100% (38/38), done.\u001b[K\n",
            "remote: Compressing objects: 100% (32/32), done.\u001b[K\n",
            "remote: Total 15274 (delta 11), reused 24 (delta 6), pack-reused 15236\u001b[K\n",
            "Receiving objects: 100% (15274/15274), 14.24 MiB | 11.94 MiB/s, done.\n",
            "Command 'git fetch ultralytics' timed out after 5 seconds\n",
            "YOLOv3 🚀 v9.6.0-46-gca9a981 Python-3.8.10 torch-1.13.1+cu116 CUDA:0 (Tesla T4, 15102MiB)\n",
            "\n",
            "\u001b[34m\u001b[1mhyperparameters: \u001b[0mlr0=0.01, lrf=0.01, momentum=0.937, weight_decay=0.0005, warmup_epochs=3.0, warmup_momentum=0.8, warmup_bias_lr=0.1, box=0.05, cls=0.5, cls_pw=1.0, obj=1.0, obj_pw=1.0, iou_t=0.2, anchor_t=4.0, fl_gamma=0.0, hsv_h=0.015, hsv_s=0.7, hsv_v=0.4, degrees=0.0, translate=0.1, scale=0.5, shear=0.0, perspective=0.0, flipud=0.0, fliplr=0.5, mosaic=1.0, mixup=0.0, copy_paste=0.0\n",
            "\u001b[34m\u001b[1mClearML: \u001b[0mrun 'pip install clearml' to automatically track, visualize and remotely train YOLOv3 🚀 in ClearML\n",
            "\u001b[34m\u001b[1mComet: \u001b[0mrun 'pip install comet_ml' to automatically track and visualize YOLOv3 🚀 runs in Comet\n",
            "\u001b[34m\u001b[1mTensorBoard: \u001b[0mStart with 'tensorboard --logdir runs/train', view at http://localhost:6006/\n",
            "2023-02-26 18:29:05.493250: I tensorflow/core/platform/cpu_feature_guard.cc:193] This TensorFlow binary is optimized with oneAPI Deep Neural Network Library (oneDNN) to use the following CPU instructions in performance-critical operations:  AVX2 FMA\n",
            "To enable them in other operations, rebuild TensorFlow with the appropriate compiler flags.\n",
            "Resolving deltas: 100% (10459/10459), done.\n",
            "From https://github.com/ultralytics/yolov5\n",
            " * [new branch]      add/weights_dir   -> ultralytics/add/weights_dir\n",
            " * [new branch]      benchmarks        -> ultralytics/benchmarks\n",
            " * [new branch]      exp/scaleFill     -> ultralytics/exp/scaleFill\n",
            " * [new branch]      exp12             -> ultralytics/exp12\n",
            " * [new branch]      exp13             -> ultralytics/exp13\n",
            " * [new branch]      exp13-nosoft      -> ultralytics/exp13-nosoft\n",
            " * [new branch]      exp13-soft        -> ultralytics/exp13-soft\n",
            " * [new branch]      fix/rgb_albumentations -> ultralytics/fix/rgb_albumentations\n",
            " * [new branch]      ghost             -> ultralytics/ghost\n",
            " * [new branch]      master            -> ultralytics/master\n",
            " * [new branch]      study_activations -> ultralytics/study_activations\n",
            " * [new branch]      ultralytics/HUB   -> ultralytics/ultralytics/HUB\n",
            " * [new branch]      update/cls-album  -> ultralytics/update/cls-album\n",
            " * [new branch]      update/textlogger -> ultralytics/update/textlogger\n",
            " * [new branch]      update/threaded   -> ultralytics/update/threaded\n",
            " * [new tag]           v3.1              -> v3.1\n",
            " * [new tag]           v4.0              -> v4.0\n",
            " * [new tag]           v5.0              -> v5.0\n",
            " * [new tag]           v6.0              -> v6.0\n",
            " * [new tag]           v6.1              -> v6.1\n",
            " * [new tag]           v6.2              -> v6.2\n",
            " * [new tag]           v7.0              -> v7.0\n",
            "2023-02-26 18:29:07.227031: W tensorflow/compiler/xla/stream_executor/platform/default/dso_loader.cc:64] Could not load dynamic library 'libnvinfer.so.7'; dlerror: libnvinfer.so.7: cannot open shared object file: No such file or directory; LD_LIBRARY_PATH: /usr/local/lib/python3.8/dist-packages/cv2/../../lib64:/usr/local/lib/python3.8/dist-packages/cv2/../../lib64:/usr/lib64-nvidia\n",
            "2023-02-26 18:29:07.227205: W tensorflow/compiler/xla/stream_executor/platform/default/dso_loader.cc:64] Could not load dynamic library 'libnvinfer_plugin.so.7'; dlerror: libnvinfer_plugin.so.7: cannot open shared object file: No such file or directory; LD_LIBRARY_PATH: /usr/local/lib/python3.8/dist-packages/cv2/../../lib64:/usr/local/lib/python3.8/dist-packages/cv2/../../lib64:/usr/lib64-nvidia\n",
            "2023-02-26 18:29:07.227236: W tensorflow/compiler/tf2tensorrt/utils/py_utils.cc:38] TF-TRT Warning: Cannot dlopen some TensorRT libraries. If you would like to use Nvidia GPU with TensorRT, please make sure the missing libraries mentioned above are installed properly.\n",
            "Downloading https://github.com/ultralytics/yolov5/releases/download/v7.0/yolov3.pt to yolov3.pt...\n",
            "100% 119M/119M [00:10<00:00, 11.4MB/s]\n",
            "\n",
            "Overriding model.yaml nc=80 with nc=53\n",
            "\n",
            "                 from  n    params  module                                  arguments                     \n",
            "  0                -1  1       928  models.common.Conv                      [3, 32, 3, 1]                 \n",
            "  1                -1  1     18560  models.common.Conv                      [32, 64, 3, 2]                \n",
            "  2                -1  1     20672  models.common.Bottleneck                [64, 64]                      \n",
            "  3                -1  1     73984  models.common.Conv                      [64, 128, 3, 2]               \n",
            "  4                -1  2    164608  models.common.Bottleneck                [128, 128]                    \n",
            "  5                -1  1    295424  models.common.Conv                      [128, 256, 3, 2]              \n",
            "  6                -1  8   2627584  models.common.Bottleneck                [256, 256]                    \n",
            "  7                -1  1   1180672  models.common.Conv                      [256, 512, 3, 2]              \n",
            "  8                -1  8  10498048  models.common.Bottleneck                [512, 512]                    \n",
            "  9                -1  1   4720640  models.common.Conv                      [512, 1024, 3, 2]             \n",
            " 10                -1  4  20983808  models.common.Bottleneck                [1024, 1024]                  \n",
            " 11                -1  1   5245952  models.common.Bottleneck                [1024, 1024, False]           \n",
            " 12                -1  1    525312  models.common.Conv                      [1024, 512, 1, 1]             \n",
            " 13                -1  1   4720640  models.common.Conv                      [512, 1024, 3, 1]             \n",
            " 14                -1  1    525312  models.common.Conv                      [1024, 512, 1, 1]             \n",
            " 15                -1  1   4720640  models.common.Conv                      [512, 1024, 3, 1]             \n",
            " 16                -2  1    131584  models.common.Conv                      [512, 256, 1, 1]              \n",
            " 17                -1  1         0  torch.nn.modules.upsampling.Upsample    [None, 2, 'nearest']          \n",
            " 18           [-1, 8]  1         0  models.common.Concat                    [1]                           \n",
            " 19                -1  1   1377792  models.common.Bottleneck                [768, 512, False]             \n",
            " 20                -1  1   1312256  models.common.Bottleneck                [512, 512, False]             \n",
            " 21                -1  1    131584  models.common.Conv                      [512, 256, 1, 1]              \n",
            " 22                -1  1   1180672  models.common.Conv                      [256, 512, 3, 1]              \n",
            " 23                -2  1     33024  models.common.Conv                      [256, 128, 1, 1]              \n",
            " 24                -1  1         0  torch.nn.modules.upsampling.Upsample    [None, 2, 'nearest']          \n",
            " 25           [-1, 6]  1         0  models.common.Concat                    [1]                           \n",
            " 26                -1  1    344832  models.common.Bottleneck                [384, 256, False]             \n",
            " 27                -1  2    656896  models.common.Bottleneck                [256, 256, False]             \n",
            " 28      [27, 22, 15]  1    312330  models.yolo.Detect                      [53, [[10, 13, 16, 30, 33, 23], [30, 61, 62, 45, 59, 119], [116, 90, 156, 198, 373, 326]], [256, 512, 1024]]\n",
            "Model summary: 262 layers, 61803754 parameters, 61803754 gradients, 156.2 GFLOPs\n",
            "\n",
            "Transferred 433/439 items from yolov3.pt\n",
            "\u001b[34m\u001b[1mAMP: \u001b[0mchecks passed ✅\n",
            "freezing model.0.conv.weight\n",
            "freezing model.0.bn.weight\n",
            "freezing model.0.bn.bias\n",
            "freezing model.1.conv.weight\n",
            "freezing model.1.bn.weight\n",
            "freezing model.1.bn.bias\n",
            "freezing model.2.cv1.conv.weight\n",
            "freezing model.2.cv1.bn.weight\n",
            "freezing model.2.cv1.bn.bias\n",
            "freezing model.2.cv2.conv.weight\n",
            "freezing model.2.cv2.bn.weight\n",
            "freezing model.2.cv2.bn.bias\n",
            "freezing model.3.conv.weight\n",
            "freezing model.3.bn.weight\n",
            "freezing model.3.bn.bias\n",
            "freezing model.4.0.cv1.conv.weight\n",
            "freezing model.4.0.cv1.bn.weight\n",
            "freezing model.4.0.cv1.bn.bias\n",
            "freezing model.4.0.cv2.conv.weight\n",
            "freezing model.4.0.cv2.bn.weight\n",
            "freezing model.4.0.cv2.bn.bias\n",
            "freezing model.4.1.cv1.conv.weight\n",
            "freezing model.4.1.cv1.bn.weight\n",
            "freezing model.4.1.cv1.bn.bias\n",
            "freezing model.4.1.cv2.conv.weight\n",
            "freezing model.4.1.cv2.bn.weight\n",
            "freezing model.4.1.cv2.bn.bias\n",
            "freezing model.5.conv.weight\n",
            "freezing model.5.bn.weight\n",
            "freezing model.5.bn.bias\n",
            "freezing model.6.0.cv1.conv.weight\n",
            "freezing model.6.0.cv1.bn.weight\n",
            "freezing model.6.0.cv1.bn.bias\n",
            "freezing model.6.0.cv2.conv.weight\n",
            "freezing model.6.0.cv2.bn.weight\n",
            "freezing model.6.0.cv2.bn.bias\n",
            "freezing model.6.1.cv1.conv.weight\n",
            "freezing model.6.1.cv1.bn.weight\n",
            "freezing model.6.1.cv1.bn.bias\n",
            "freezing model.6.1.cv2.conv.weight\n",
            "freezing model.6.1.cv2.bn.weight\n",
            "freezing model.6.1.cv2.bn.bias\n",
            "freezing model.6.2.cv1.conv.weight\n",
            "freezing model.6.2.cv1.bn.weight\n",
            "freezing model.6.2.cv1.bn.bias\n",
            "freezing model.6.2.cv2.conv.weight\n",
            "freezing model.6.2.cv2.bn.weight\n",
            "freezing model.6.2.cv2.bn.bias\n",
            "freezing model.6.3.cv1.conv.weight\n",
            "freezing model.6.3.cv1.bn.weight\n",
            "freezing model.6.3.cv1.bn.bias\n",
            "freezing model.6.3.cv2.conv.weight\n",
            "freezing model.6.3.cv2.bn.weight\n",
            "freezing model.6.3.cv2.bn.bias\n",
            "freezing model.6.4.cv1.conv.weight\n",
            "freezing model.6.4.cv1.bn.weight\n",
            "freezing model.6.4.cv1.bn.bias\n",
            "freezing model.6.4.cv2.conv.weight\n",
            "freezing model.6.4.cv2.bn.weight\n",
            "freezing model.6.4.cv2.bn.bias\n",
            "freezing model.6.5.cv1.conv.weight\n",
            "freezing model.6.5.cv1.bn.weight\n",
            "freezing model.6.5.cv1.bn.bias\n",
            "freezing model.6.5.cv2.conv.weight\n",
            "freezing model.6.5.cv2.bn.weight\n",
            "freezing model.6.5.cv2.bn.bias\n",
            "freezing model.6.6.cv1.conv.weight\n",
            "freezing model.6.6.cv1.bn.weight\n",
            "freezing model.6.6.cv1.bn.bias\n",
            "freezing model.6.6.cv2.conv.weight\n",
            "freezing model.6.6.cv2.bn.weight\n",
            "freezing model.6.6.cv2.bn.bias\n",
            "freezing model.6.7.cv1.conv.weight\n",
            "freezing model.6.7.cv1.bn.weight\n",
            "freezing model.6.7.cv1.bn.bias\n",
            "freezing model.6.7.cv2.conv.weight\n",
            "freezing model.6.7.cv2.bn.weight\n",
            "freezing model.6.7.cv2.bn.bias\n",
            "freezing model.7.conv.weight\n",
            "freezing model.7.bn.weight\n",
            "freezing model.7.bn.bias\n",
            "freezing model.8.0.cv1.conv.weight\n",
            "freezing model.8.0.cv1.bn.weight\n",
            "freezing model.8.0.cv1.bn.bias\n",
            "freezing model.8.0.cv2.conv.weight\n",
            "freezing model.8.0.cv2.bn.weight\n",
            "freezing model.8.0.cv2.bn.bias\n",
            "freezing model.8.1.cv1.conv.weight\n",
            "freezing model.8.1.cv1.bn.weight\n",
            "freezing model.8.1.cv1.bn.bias\n",
            "freezing model.8.1.cv2.conv.weight\n",
            "freezing model.8.1.cv2.bn.weight\n",
            "freezing model.8.1.cv2.bn.bias\n",
            "freezing model.8.2.cv1.conv.weight\n",
            "freezing model.8.2.cv1.bn.weight\n",
            "freezing model.8.2.cv1.bn.bias\n",
            "freezing model.8.2.cv2.conv.weight\n",
            "freezing model.8.2.cv2.bn.weight\n",
            "freezing model.8.2.cv2.bn.bias\n",
            "freezing model.8.3.cv1.conv.weight\n",
            "freezing model.8.3.cv1.bn.weight\n",
            "freezing model.8.3.cv1.bn.bias\n",
            "freezing model.8.3.cv2.conv.weight\n",
            "freezing model.8.3.cv2.bn.weight\n",
            "freezing model.8.3.cv2.bn.bias\n",
            "freezing model.8.4.cv1.conv.weight\n",
            "freezing model.8.4.cv1.bn.weight\n",
            "freezing model.8.4.cv1.bn.bias\n",
            "freezing model.8.4.cv2.conv.weight\n",
            "freezing model.8.4.cv2.bn.weight\n",
            "freezing model.8.4.cv2.bn.bias\n",
            "freezing model.8.5.cv1.conv.weight\n",
            "freezing model.8.5.cv1.bn.weight\n",
            "freezing model.8.5.cv1.bn.bias\n",
            "freezing model.8.5.cv2.conv.weight\n",
            "freezing model.8.5.cv2.bn.weight\n",
            "freezing model.8.5.cv2.bn.bias\n",
            "freezing model.8.6.cv1.conv.weight\n",
            "freezing model.8.6.cv1.bn.weight\n",
            "freezing model.8.6.cv1.bn.bias\n",
            "freezing model.8.6.cv2.conv.weight\n",
            "freezing model.8.6.cv2.bn.weight\n",
            "freezing model.8.6.cv2.bn.bias\n",
            "freezing model.8.7.cv1.conv.weight\n",
            "freezing model.8.7.cv1.bn.weight\n",
            "freezing model.8.7.cv1.bn.bias\n",
            "freezing model.8.7.cv2.conv.weight\n",
            "freezing model.8.7.cv2.bn.weight\n",
            "freezing model.8.7.cv2.bn.bias\n",
            "freezing model.9.conv.weight\n",
            "freezing model.9.bn.weight\n",
            "freezing model.9.bn.bias\n",
            "freezing model.10.0.cv1.conv.weight\n",
            "freezing model.10.0.cv1.bn.weight\n",
            "freezing model.10.0.cv1.bn.bias\n",
            "freezing model.10.0.cv2.conv.weight\n",
            "freezing model.10.0.cv2.bn.weight\n",
            "freezing model.10.0.cv2.bn.bias\n",
            "freezing model.10.1.cv1.conv.weight\n",
            "freezing model.10.1.cv1.bn.weight\n",
            "freezing model.10.1.cv1.bn.bias\n",
            "freezing model.10.1.cv2.conv.weight\n",
            "freezing model.10.1.cv2.bn.weight\n",
            "freezing model.10.1.cv2.bn.bias\n",
            "freezing model.10.2.cv1.conv.weight\n",
            "freezing model.10.2.cv1.bn.weight\n",
            "freezing model.10.2.cv1.bn.bias\n",
            "freezing model.10.2.cv2.conv.weight\n",
            "freezing model.10.2.cv2.bn.weight\n",
            "freezing model.10.2.cv2.bn.bias\n",
            "freezing model.10.3.cv1.conv.weight\n",
            "freezing model.10.3.cv1.bn.weight\n",
            "freezing model.10.3.cv1.bn.bias\n",
            "freezing model.10.3.cv2.conv.weight\n",
            "freezing model.10.3.cv2.bn.weight\n",
            "freezing model.10.3.cv2.bn.bias\n",
            "\u001b[34m\u001b[1moptimizer:\u001b[0m SGD(lr=0.01) with parameter groups 72 weight(decay=0.0), 75 weight(decay=0.0005), 75 bias\n",
            "\u001b[34m\u001b[1malbumentations: \u001b[0mBlur(p=0.01, blur_limit=(3, 7)), MedianBlur(p=0.01, blur_limit=(3, 7)), ToGray(p=0.01), CLAHE(p=0.01, clip_limit=(1, 4.0), tile_grid_size=(8, 8))\n",
            "\u001b[34m\u001b[1mtrain: \u001b[0mScanning /content/datasets/poker-cards/labels/train... 964 images, 0 backgrounds, 0 corrupt: 100% 964/964 [00:01<00:00, 894.73it/s] \n",
            "\u001b[34m\u001b[1mtrain: \u001b[0mNew cache created: /content/datasets/poker-cards/labels/train.cache\n",
            "\u001b[34m\u001b[1mval: \u001b[0mScanning /content/datasets/poker-cards/labels/valid... 193 images, 0 backgrounds, 0 corrupt: 100% 193/193 [00:00<00:00, 1053.80it/s]\n",
            "\u001b[34m\u001b[1mval: \u001b[0mNew cache created: /content/datasets/poker-cards/labels/valid.cache\n",
            "\n",
            "\u001b[34m\u001b[1mAutoAnchor: \u001b[0m4.36 anchors/target, 1.000 Best Possible Recall (BPR). Current anchors are a good fit to dataset ✅\n",
            "Plotting labels to runs/train/poker-cards/labels.jpg... \n",
            "Image sizes 640 train, 640 val\n",
            "Using 2 dataloader workers\n",
            "Logging results to \u001b[1mruns/train/poker-cards\u001b[0m\n",
            "Starting training for 100 epochs...\n",
            "\n",
            "      Epoch    GPU_mem   box_loss   obj_loss   cls_loss  Instances       Size\n",
            "       0/99      3.66G    0.06805    0.06774    0.09788         55        640: 100% 61/61 [00:53<00:00,  1.14it/s]\n",
            "                 Class     Images  Instances          P          R      mAP50   mAP50-95: 100% 7/7 [00:06<00:00,  1.06it/s]\n",
            "                   all        193        838     0.0119      0.776     0.0231     0.0109\n",
            "\n",
            "      Epoch    GPU_mem   box_loss   obj_loss   cls_loss  Instances       Size\n",
            "       1/99      6.15G    0.04984    0.05031    0.09544         31        640: 100% 61/61 [00:45<00:00,  1.33it/s]\n",
            "                 Class     Images  Instances          P          R      mAP50   mAP50-95: 100% 7/7 [00:05<00:00,  1.39it/s]\n",
            "                   all        193        838    0.00962      0.655     0.0173    0.00936\n",
            "\n",
            "      Epoch    GPU_mem   box_loss   obj_loss   cls_loss  Instances       Size\n",
            "       2/99      6.15G    0.04906    0.04444     0.0935         26        640: 100% 61/61 [00:46<00:00,  1.30it/s]\n",
            "                 Class     Images  Instances          P          R      mAP50   mAP50-95: 100% 7/7 [00:04<00:00,  1.43it/s]\n",
            "                   all        193        838     0.0146      0.981     0.0498     0.0341\n",
            "\n",
            "      Epoch    GPU_mem   box_loss   obj_loss   cls_loss  Instances       Size\n",
            "       3/99      6.15G    0.04086    0.04156    0.09149         21        640: 100% 61/61 [00:46<00:00,  1.31it/s]\n",
            "                 Class     Images  Instances          P          R      mAP50   mAP50-95: 100% 7/7 [00:05<00:00,  1.34it/s]\n",
            "                   all        193        838     0.0157      0.992     0.0725      0.047\n",
            "\n",
            "      Epoch    GPU_mem   box_loss   obj_loss   cls_loss  Instances       Size\n",
            "       4/99      6.15G    0.03725    0.03839    0.08975         51        640: 100% 61/61 [00:46<00:00,  1.32it/s]\n",
            "                 Class     Images  Instances          P          R      mAP50   mAP50-95: 100% 7/7 [00:05<00:00,  1.36it/s]\n",
            "                   all        193        838     0.0277      0.912     0.0929     0.0602\n",
            "\n",
            "      Epoch    GPU_mem   box_loss   obj_loss   cls_loss  Instances       Size\n",
            "       5/99      6.15G    0.03377     0.0376    0.08704         30        640: 100% 61/61 [00:46<00:00,  1.31it/s]\n",
            "                 Class     Images  Instances          P          R      mAP50   mAP50-95: 100% 7/7 [00:05<00:00,  1.37it/s]\n",
            "                   all        193        838      0.195      0.356      0.116     0.0748\n",
            "\n",
            "      Epoch    GPU_mem   box_loss   obj_loss   cls_loss  Instances       Size\n",
            "       6/99      6.15G    0.03137    0.03655     0.0845         34        640: 100% 61/61 [00:48<00:00,  1.27it/s]\n",
            "                 Class     Images  Instances          P          R      mAP50   mAP50-95: 100% 7/7 [00:04<00:00,  1.41it/s]\n",
            "                   all        193        838      0.249      0.315      0.144      0.103\n",
            "\n",
            "      Epoch    GPU_mem   box_loss   obj_loss   cls_loss  Instances       Size\n",
            "       7/99      6.15G    0.03047    0.03525    0.08106         32        640: 100% 61/61 [00:46<00:00,  1.31it/s]\n",
            "                 Class     Images  Instances          P          R      mAP50   mAP50-95: 100% 7/7 [00:05<00:00,  1.39it/s]\n",
            "                   all        193        838      0.351      0.359      0.173      0.092\n",
            "\n",
            "      Epoch    GPU_mem   box_loss   obj_loss   cls_loss  Instances       Size\n",
            "       8/99      6.15G    0.02994    0.03433    0.07864         37        640: 100% 61/61 [00:47<00:00,  1.29it/s]\n",
            "                 Class     Images  Instances          P          R      mAP50   mAP50-95: 100% 7/7 [00:05<00:00,  1.37it/s]\n",
            "                   all        193        838      0.194       0.44      0.225      0.168\n",
            "\n",
            "      Epoch    GPU_mem   box_loss   obj_loss   cls_loss  Instances       Size\n",
            "       9/99      6.15G    0.02888    0.03263    0.07563         33        640: 100% 61/61 [00:46<00:00,  1.30it/s]\n",
            "                 Class     Images  Instances          P          R      mAP50   mAP50-95: 100% 7/7 [00:05<00:00,  1.37it/s]\n",
            "                   all        193        838      0.206       0.56      0.272      0.182\n",
            "\n",
            "      Epoch    GPU_mem   box_loss   obj_loss   cls_loss  Instances       Size\n",
            "      10/99      6.15G    0.02873    0.03464    0.07319         41        640: 100% 61/61 [00:47<00:00,  1.28it/s]\n",
            "                 Class     Images  Instances          P          R      mAP50   mAP50-95: 100% 7/7 [00:05<00:00,  1.39it/s]\n",
            "                   all        193        838      0.241      0.518      0.302      0.173\n",
            "\n",
            "      Epoch    GPU_mem   box_loss   obj_loss   cls_loss  Instances       Size\n",
            "      11/99      6.15G    0.02804    0.03324    0.07096         45        640: 100% 61/61 [00:46<00:00,  1.31it/s]\n",
            "                 Class     Images  Instances          P          R      mAP50   mAP50-95: 100% 7/7 [00:05<00:00,  1.35it/s]\n",
            "                   all        193        838      0.305      0.548      0.343      0.214\n",
            "\n",
            "      Epoch    GPU_mem   box_loss   obj_loss   cls_loss  Instances       Size\n",
            "      12/99      6.15G    0.02803    0.03269    0.06824         43        640: 100% 61/61 [00:48<00:00,  1.25it/s]\n",
            "                 Class     Images  Instances          P          R      mAP50   mAP50-95: 100% 7/7 [00:05<00:00,  1.20it/s]\n",
            "                   all        193        838      0.252      0.632      0.376      0.239\n",
            "\n",
            "      Epoch    GPU_mem   box_loss   obj_loss   cls_loss  Instances       Size\n",
            "      13/99      6.15G    0.02696    0.03237    0.06529         33        640: 100% 61/61 [00:46<00:00,  1.32it/s]\n",
            "                 Class     Images  Instances          P          R      mAP50   mAP50-95: 100% 7/7 [00:06<00:00,  1.10it/s]\n",
            "                   all        193        838      0.323      0.662      0.424      0.305\n",
            "\n",
            "      Epoch    GPU_mem   box_loss   obj_loss   cls_loss  Instances       Size\n",
            "      14/99      6.15G    0.02745    0.03272    0.06366         40        640: 100% 61/61 [00:46<00:00,  1.31it/s]\n",
            "                 Class     Images  Instances          P          R      mAP50   mAP50-95: 100% 7/7 [00:06<00:00,  1.11it/s]\n",
            "                   all        193        838      0.329      0.675      0.432       0.33\n",
            "\n",
            "      Epoch    GPU_mem   box_loss   obj_loss   cls_loss  Instances       Size\n",
            "      15/99      6.15G    0.02711    0.03267    0.06149         54        640: 100% 61/61 [00:47<00:00,  1.28it/s]\n",
            "                 Class     Images  Instances          P          R      mAP50   mAP50-95: 100% 7/7 [00:05<00:00,  1.20it/s]\n",
            "                   all        193        838      0.348      0.703      0.506      0.362\n",
            "\n",
            "      Epoch    GPU_mem   box_loss   obj_loss   cls_loss  Instances       Size\n",
            "      16/99      6.15G    0.02654    0.03153    0.06025         28        640: 100% 61/61 [00:47<00:00,  1.28it/s]\n",
            "                 Class     Images  Instances          P          R      mAP50   mAP50-95: 100% 7/7 [00:05<00:00,  1.29it/s]\n",
            "                   all        193        838      0.444      0.657      0.521      0.334\n",
            "\n",
            "      Epoch    GPU_mem   box_loss   obj_loss   cls_loss  Instances       Size\n",
            "      17/99      6.15G    0.02603    0.03208    0.05809         40        640: 100% 61/61 [00:47<00:00,  1.29it/s]\n",
            "                 Class     Images  Instances          P          R      mAP50   mAP50-95: 100% 7/7 [00:07<00:00,  1.01s/it]\n",
            "                   all        193        838      0.414      0.709      0.539      0.403\n",
            "\n",
            "      Epoch    GPU_mem   box_loss   obj_loss   cls_loss  Instances       Size\n",
            "      18/99      6.15G    0.02583     0.0313    0.05621         28        640: 100% 61/61 [00:50<00:00,  1.22it/s]\n",
            "                 Class     Images  Instances          P          R      mAP50   mAP50-95: 100% 7/7 [00:05<00:00,  1.33it/s]\n",
            "                   all        193        838      0.411      0.714      0.564      0.426\n",
            "\n",
            "      Epoch    GPU_mem   box_loss   obj_loss   cls_loss  Instances       Size\n",
            "      19/99      6.15G    0.02529    0.03154    0.05468         27        640: 100% 61/61 [00:47<00:00,  1.30it/s]\n",
            "                 Class     Images  Instances          P          R      mAP50   mAP50-95: 100% 7/7 [00:05<00:00,  1.36it/s]\n",
            "                   all        193        838      0.439      0.755      0.594      0.455\n",
            "\n",
            "      Epoch    GPU_mem   box_loss   obj_loss   cls_loss  Instances       Size\n",
            "      20/99      6.15G    0.02543    0.03128    0.05373         32        640: 100% 61/61 [00:46<00:00,  1.30it/s]\n",
            "                 Class     Images  Instances          P          R      mAP50   mAP50-95: 100% 7/7 [00:05<00:00,  1.37it/s]\n",
            "                   all        193        838       0.43      0.763      0.614      0.419\n",
            "\n",
            "      Epoch    GPU_mem   box_loss   obj_loss   cls_loss  Instances       Size\n",
            "      21/99      6.15G    0.02475    0.03134    0.05245         38        640: 100% 61/61 [00:47<00:00,  1.28it/s]\n",
            "                 Class     Images  Instances          P          R      mAP50   mAP50-95: 100% 7/7 [00:05<00:00,  1.34it/s]\n",
            "                   all        193        838      0.483      0.755      0.638      0.504\n",
            "\n",
            "      Epoch    GPU_mem   box_loss   obj_loss   cls_loss  Instances       Size\n",
            "      22/99      6.15G    0.02481    0.03123    0.05094         39        640: 100% 61/61 [00:47<00:00,  1.28it/s]\n",
            "                 Class     Images  Instances          P          R      mAP50   mAP50-95: 100% 7/7 [00:04<00:00,  1.46it/s]\n",
            "                   all        193        838      0.514      0.782       0.66      0.499\n",
            "\n",
            "      Epoch    GPU_mem   box_loss   obj_loss   cls_loss  Instances       Size\n",
            "      23/99      6.15G     0.0249    0.03124     0.0493         49        640: 100% 61/61 [00:48<00:00,  1.25it/s]\n",
            "                 Class     Images  Instances          P          R      mAP50   mAP50-95: 100% 7/7 [00:05<00:00,  1.30it/s]\n",
            "                   all        193        838      0.497       0.75      0.651      0.483\n",
            "\n",
            "      Epoch    GPU_mem   box_loss   obj_loss   cls_loss  Instances       Size\n",
            "      24/99      6.15G    0.02394    0.02957     0.0481         32        640: 100% 61/61 [00:45<00:00,  1.35it/s]\n",
            "                 Class     Images  Instances          P          R      mAP50   mAP50-95: 100% 7/7 [00:05<00:00,  1.36it/s]\n",
            "                   all        193        838      0.517      0.726      0.659      0.494\n",
            "\n",
            "      Epoch    GPU_mem   box_loss   obj_loss   cls_loss  Instances       Size\n",
            "      25/99      6.15G    0.02407     0.0308    0.04745         43        640: 100% 61/61 [00:46<00:00,  1.31it/s]\n",
            "                 Class     Images  Instances          P          R      mAP50   mAP50-95: 100% 7/7 [00:05<00:00,  1.31it/s]\n",
            "                   all        193        838      0.505      0.776      0.684      0.546\n",
            "\n",
            "      Epoch    GPU_mem   box_loss   obj_loss   cls_loss  Instances       Size\n",
            "      26/99      6.15G    0.02397    0.03018    0.04628         38        640: 100% 61/61 [00:45<00:00,  1.33it/s]\n",
            "                 Class     Images  Instances          P          R      mAP50   mAP50-95: 100% 7/7 [00:05<00:00,  1.34it/s]\n",
            "                   all        193        838      0.513      0.763      0.703      0.531\n",
            "\n",
            "      Epoch    GPU_mem   box_loss   obj_loss   cls_loss  Instances       Size\n",
            "      27/99      6.15G    0.02368    0.02981    0.04587         40        640: 100% 61/61 [00:46<00:00,  1.30it/s]\n",
            "                 Class     Images  Instances          P          R      mAP50   mAP50-95: 100% 7/7 [00:04<00:00,  1.46it/s]\n",
            "                   all        193        838      0.575      0.788      0.751      0.604\n",
            "\n",
            "      Epoch    GPU_mem   box_loss   obj_loss   cls_loss  Instances       Size\n",
            "      28/99      6.15G    0.02331     0.0302     0.0449         32        640: 100% 61/61 [00:47<00:00,  1.30it/s]\n",
            "                 Class     Images  Instances          P          R      mAP50   mAP50-95: 100% 7/7 [00:04<00:00,  1.42it/s]\n",
            "                   all        193        838      0.623      0.762       0.76      0.526\n",
            "\n",
            "      Epoch    GPU_mem   box_loss   obj_loss   cls_loss  Instances       Size\n",
            "      29/99      6.15G    0.02361    0.03043    0.04306         34        640: 100% 61/61 [00:48<00:00,  1.26it/s]\n",
            "                 Class     Images  Instances          P          R      mAP50   mAP50-95: 100% 7/7 [00:05<00:00,  1.35it/s]\n",
            "                   all        193        838      0.638      0.777      0.785      0.591\n",
            "\n",
            "      Epoch    GPU_mem   box_loss   obj_loss   cls_loss  Instances       Size\n",
            "      30/99      6.15G    0.02341    0.02992    0.04238         39        640: 100% 61/61 [00:46<00:00,  1.30it/s]\n",
            "                 Class     Images  Instances          P          R      mAP50   mAP50-95: 100% 7/7 [00:05<00:00,  1.35it/s]\n",
            "                   all        193        838      0.677      0.753      0.801       0.64\n",
            "\n",
            "      Epoch    GPU_mem   box_loss   obj_loss   cls_loss  Instances       Size\n",
            "      31/99      6.15G    0.02361     0.0295    0.04217         35        640: 100% 61/61 [00:46<00:00,  1.30it/s]\n",
            "                 Class     Images  Instances          P          R      mAP50   mAP50-95: 100% 7/7 [00:04<00:00,  1.45it/s]\n",
            "                   all        193        838      0.681      0.787      0.818      0.628\n",
            "\n",
            "      Epoch    GPU_mem   box_loss   obj_loss   cls_loss  Instances       Size\n",
            "      32/99      6.15G    0.02242    0.02934    0.04088         19        640: 100% 61/61 [00:46<00:00,  1.30it/s]\n",
            "                 Class     Images  Instances          P          R      mAP50   mAP50-95: 100% 7/7 [00:05<00:00,  1.39it/s]\n",
            "                   all        193        838      0.692      0.793       0.82      0.654\n",
            "\n",
            "      Epoch    GPU_mem   box_loss   obj_loss   cls_loss  Instances       Size\n",
            "      33/99      6.15G    0.02221    0.02832    0.04097         21        640: 100% 61/61 [00:46<00:00,  1.31it/s]\n",
            "                 Class     Images  Instances          P          R      mAP50   mAP50-95: 100% 7/7 [00:05<00:00,  1.36it/s]\n",
            "                   all        193        838      0.695      0.768      0.815      0.647\n",
            "\n",
            "      Epoch    GPU_mem   box_loss   obj_loss   cls_loss  Instances       Size\n",
            "      34/99      6.15G    0.02297    0.02839    0.04143         27        640: 100% 61/61 [00:46<00:00,  1.30it/s]\n",
            "                 Class     Images  Instances          P          R      mAP50   mAP50-95: 100% 7/7 [00:04<00:00,  1.40it/s]\n",
            "                   all        193        838      0.678      0.776      0.828      0.699\n",
            "\n",
            "      Epoch    GPU_mem   box_loss   obj_loss   cls_loss  Instances       Size\n",
            "      35/99      6.15G    0.02255    0.02949    0.03894         45        640: 100% 61/61 [00:48<00:00,  1.25it/s]\n",
            "                 Class     Images  Instances          P          R      mAP50   mAP50-95: 100% 7/7 [00:05<00:00,  1.38it/s]\n",
            "                   all        193        838      0.732      0.798      0.859      0.686\n",
            "\n",
            "      Epoch    GPU_mem   box_loss   obj_loss   cls_loss  Instances       Size\n",
            "      36/99      6.15G    0.02205    0.02868    0.03855         40        640: 100% 61/61 [00:46<00:00,  1.30it/s]\n",
            "                 Class     Images  Instances          P          R      mAP50   mAP50-95: 100% 7/7 [00:05<00:00,  1.33it/s]\n",
            "                   all        193        838      0.771       0.84      0.872      0.712\n",
            "\n",
            "      Epoch    GPU_mem   box_loss   obj_loss   cls_loss  Instances       Size\n",
            "      37/99      6.15G      0.023    0.02893    0.03705         34        640: 100% 61/61 [00:46<00:00,  1.32it/s]\n",
            "                 Class     Images  Instances          P          R      mAP50   mAP50-95: 100% 7/7 [00:05<00:00,  1.28it/s]\n",
            "                   all        193        838      0.743      0.806      0.866      0.691\n",
            "\n",
            "      Epoch    GPU_mem   box_loss   obj_loss   cls_loss  Instances       Size\n",
            "      38/99      6.15G    0.02185    0.02843    0.03804         35        640: 100% 61/61 [00:46<00:00,  1.32it/s]\n",
            "                 Class     Images  Instances          P          R      mAP50   mAP50-95: 100% 7/7 [00:05<00:00,  1.18it/s]\n",
            "                   all        193        838      0.755      0.825      0.877       0.67\n",
            "\n",
            "      Epoch    GPU_mem   box_loss   obj_loss   cls_loss  Instances       Size\n",
            "      39/99      6.15G    0.02246    0.02873    0.03736         22        640: 100% 61/61 [00:45<00:00,  1.34it/s]\n",
            "                 Class     Images  Instances          P          R      mAP50   mAP50-95: 100% 7/7 [00:06<00:00,  1.11it/s]\n",
            "                   all        193        838      0.759      0.797      0.879       0.67\n",
            "\n",
            "      Epoch    GPU_mem   box_loss   obj_loss   cls_loss  Instances       Size\n",
            "      40/99      6.15G    0.02202      0.029    0.03571         35        640: 100% 61/61 [00:45<00:00,  1.35it/s]\n",
            "                 Class     Images  Instances          P          R      mAP50   mAP50-95: 100% 7/7 [00:06<00:00,  1.08it/s]\n",
            "                   all        193        838      0.738       0.82      0.877        0.7\n",
            "\n",
            "      Epoch    GPU_mem   box_loss   obj_loss   cls_loss  Instances       Size\n",
            "      41/99      6.15G    0.02152    0.02908    0.03448         25        640: 100% 61/61 [00:46<00:00,  1.31it/s]\n",
            "                 Class     Images  Instances          P          R      mAP50   mAP50-95: 100% 7/7 [00:06<00:00,  1.10it/s]\n",
            "                   all        193        838      0.762      0.841      0.899      0.674\n",
            "\n",
            "      Epoch    GPU_mem   box_loss   obj_loss   cls_loss  Instances       Size\n",
            "      42/99      6.15G    0.02139    0.02793    0.03549         25        640: 100% 61/61 [00:45<00:00,  1.33it/s]\n",
            "                 Class     Images  Instances          P          R      mAP50   mAP50-95: 100% 7/7 [00:05<00:00,  1.30it/s]\n",
            "                   all        193        838      0.791      0.815      0.901      0.739\n",
            "\n",
            "      Epoch    GPU_mem   box_loss   obj_loss   cls_loss  Instances       Size\n",
            "      43/99      6.15G    0.02127    0.02834    0.03415         32        640: 100% 61/61 [00:45<00:00,  1.33it/s]\n",
            "                 Class     Images  Instances          P          R      mAP50   mAP50-95: 100% 7/7 [00:05<00:00,  1.22it/s]\n",
            "                   all        193        838      0.817       0.83      0.904      0.753\n",
            "\n",
            "      Epoch    GPU_mem   box_loss   obj_loss   cls_loss  Instances       Size\n",
            "      44/99      6.15G    0.02127    0.02799    0.03391         26        640: 100% 61/61 [00:45<00:00,  1.34it/s]\n",
            "                 Class     Images  Instances          P          R      mAP50   mAP50-95: 100% 7/7 [00:06<00:00,  1.10it/s]\n",
            "                   all        193        838      0.803      0.846      0.914      0.726\n",
            "\n",
            "      Epoch    GPU_mem   box_loss   obj_loss   cls_loss  Instances       Size\n",
            "      45/99      6.15G    0.02121    0.02794    0.03313         34        640: 100% 61/61 [00:45<00:00,  1.34it/s]\n",
            "                 Class     Images  Instances          P          R      mAP50   mAP50-95: 100% 7/7 [00:05<00:00,  1.22it/s]\n",
            "                   all        193        838      0.818      0.825      0.911      0.762\n",
            "\n",
            "      Epoch    GPU_mem   box_loss   obj_loss   cls_loss  Instances       Size\n",
            "      46/99      6.15G     0.0215    0.02879     0.0326         25        640: 100% 61/61 [00:45<00:00,  1.34it/s]\n",
            "                 Class     Images  Instances          P          R      mAP50   mAP50-95: 100% 7/7 [00:07<00:00,  1.05s/it]\n",
            "                   all        193        838      0.829      0.818      0.909      0.733\n",
            "\n",
            "      Epoch    GPU_mem   box_loss   obj_loss   cls_loss  Instances       Size\n",
            "      47/99      6.15G     0.0209    0.02797    0.03144         36        640: 100% 61/61 [00:44<00:00,  1.36it/s]\n",
            "                 Class     Images  Instances          P          R      mAP50   mAP50-95: 100% 7/7 [00:05<00:00,  1.28it/s]\n",
            "                   all        193        838      0.821       0.84      0.917      0.749\n",
            "\n",
            "      Epoch    GPU_mem   box_loss   obj_loss   cls_loss  Instances       Size\n",
            "      48/99      6.15G    0.02046    0.02771     0.0313         36        640: 100% 61/61 [00:45<00:00,  1.35it/s]\n",
            "                 Class     Images  Instances          P          R      mAP50   mAP50-95: 100% 7/7 [00:04<00:00,  1.40it/s]\n",
            "                   all        193        838      0.833      0.845      0.919      0.761\n",
            "\n",
            "      Epoch    GPU_mem   box_loss   obj_loss   cls_loss  Instances       Size\n",
            "      49/99      6.15G    0.02083    0.02759     0.0303         32        640: 100% 61/61 [00:47<00:00,  1.29it/s]\n",
            "                 Class     Images  Instances          P          R      mAP50   mAP50-95: 100% 7/7 [00:04<00:00,  1.44it/s]\n",
            "                   all        193        838      0.824      0.861      0.926      0.747\n",
            "\n",
            "      Epoch    GPU_mem   box_loss   obj_loss   cls_loss  Instances       Size\n",
            "      50/99      6.15G    0.02064    0.02848    0.03004         45        640: 100% 61/61 [00:46<00:00,  1.32it/s]\n",
            "                 Class     Images  Instances          P          R      mAP50   mAP50-95: 100% 7/7 [00:05<00:00,  1.38it/s]\n",
            "                   all        193        838      0.854      0.833      0.919      0.768\n",
            "\n",
            "      Epoch    GPU_mem   box_loss   obj_loss   cls_loss  Instances       Size\n",
            "      51/99      6.15G    0.02003    0.02813    0.02861         26        640: 100% 61/61 [00:46<00:00,  1.30it/s]\n",
            "                 Class     Images  Instances          P          R      mAP50   mAP50-95: 100% 7/7 [00:04<00:00,  1.48it/s]\n",
            "                   all        193        838      0.844      0.846      0.918       0.77\n",
            "\n",
            "      Epoch    GPU_mem   box_loss   obj_loss   cls_loss  Instances       Size\n",
            "      52/99      6.15G    0.01974      0.027    0.02918         21        640: 100% 61/61 [00:47<00:00,  1.28it/s]\n",
            "                 Class     Images  Instances          P          R      mAP50   mAP50-95: 100% 7/7 [00:04<00:00,  1.42it/s]\n",
            "                   all        193        838      0.856      0.864      0.928      0.788\n",
            "\n",
            "      Epoch    GPU_mem   box_loss   obj_loss   cls_loss  Instances       Size\n",
            "      53/99      6.15G    0.01958    0.02761    0.02851         45        640: 100% 61/61 [00:45<00:00,  1.33it/s]\n",
            "                 Class     Images  Instances          P          R      mAP50   mAP50-95: 100% 7/7 [00:04<00:00,  1.41it/s]\n",
            "                   all        193        838      0.869      0.848       0.93      0.787\n",
            "\n",
            "      Epoch    GPU_mem   box_loss   obj_loss   cls_loss  Instances       Size\n",
            "      54/99      6.15G    0.01968    0.02736     0.0283         30        640: 100% 61/61 [00:46<00:00,  1.32it/s]\n",
            "                 Class     Images  Instances          P          R      mAP50   mAP50-95: 100% 7/7 [00:05<00:00,  1.37it/s]\n",
            "                   all        193        838      0.875      0.863      0.942      0.804\n",
            "\n",
            "      Epoch    GPU_mem   box_loss   obj_loss   cls_loss  Instances       Size\n",
            "      55/99      6.15G    0.02002    0.02795    0.02716         48        640: 100% 61/61 [00:47<00:00,  1.29it/s]\n",
            "                 Class     Images  Instances          P          R      mAP50   mAP50-95: 100% 7/7 [00:04<00:00,  1.50it/s]\n",
            "                   all        193        838      0.876      0.841      0.926      0.779\n",
            "\n",
            "      Epoch    GPU_mem   box_loss   obj_loss   cls_loss  Instances       Size\n",
            "      56/99      6.15G    0.01971    0.02666    0.02775         32        640: 100% 61/61 [00:46<00:00,  1.32it/s]\n",
            "                 Class     Images  Instances          P          R      mAP50   mAP50-95: 100% 7/7 [00:05<00:00,  1.35it/s]\n",
            "                   all        193        838      0.824      0.876      0.929      0.794\n",
            "\n",
            "      Epoch    GPU_mem   box_loss   obj_loss   cls_loss  Instances       Size\n",
            "      57/99      6.15G    0.01952    0.02727    0.02703         21        640: 100% 61/61 [00:45<00:00,  1.33it/s]\n",
            "                 Class     Images  Instances          P          R      mAP50   mAP50-95: 100% 7/7 [00:05<00:00,  1.28it/s]\n",
            "                   all        193        838      0.875      0.869      0.939      0.778\n",
            "\n",
            "      Epoch    GPU_mem   box_loss   obj_loss   cls_loss  Instances       Size\n",
            "      58/99      6.15G    0.01971    0.02757    0.02654         45        640: 100% 61/61 [00:47<00:00,  1.29it/s]\n",
            "                 Class     Images  Instances          P          R      mAP50   mAP50-95: 100% 7/7 [00:05<00:00,  1.21it/s]\n",
            "                   all        193        838      0.884      0.867      0.939      0.801\n",
            "\n",
            "      Epoch    GPU_mem   box_loss   obj_loss   cls_loss  Instances       Size\n",
            "      59/99      6.15G     0.0193    0.02654    0.02587         31        640: 100% 61/61 [00:45<00:00,  1.35it/s]\n",
            "                 Class     Images  Instances          P          R      mAP50   mAP50-95: 100% 7/7 [00:05<00:00,  1.17it/s]\n",
            "                   all        193        838      0.856      0.872      0.942      0.811\n",
            "\n",
            "      Epoch    GPU_mem   box_loss   obj_loss   cls_loss  Instances       Size\n",
            "      60/99      6.15G    0.01924    0.02775    0.02529         41        640: 100% 61/61 [00:45<00:00,  1.35it/s]\n",
            "                 Class     Images  Instances          P          R      mAP50   mAP50-95: 100% 7/7 [00:06<00:00,  1.13it/s]\n",
            "                   all        193        838      0.882      0.866       0.94      0.795\n",
            "\n",
            "      Epoch    GPU_mem   box_loss   obj_loss   cls_loss  Instances       Size\n",
            "                 Class     Images  Instances          P          R      mAP50   mAP50-95: 100% 7/7 [00:06<00:00,  1.13it/s]\n",
            "                   all        193        838      0.899      0.858      0.946      0.808\n",
            "\n",
            "      Epoch    GPU_mem   box_loss   obj_loss   cls_loss  Instances       Size\n",
            "      62/99      6.15G    0.01909    0.02707    0.02575         42        640: 100% 61/61 [00:45<00:00,  1.34it/s]\n",
            "                 Class     Images  Instances          P          R      mAP50   mAP50-95: 100% 7/7 [00:06<00:00,  1.12it/s]\n",
            "                   all        193        838      0.871      0.863      0.944      0.808\n",
            "\n",
            "      Epoch    GPU_mem   box_loss   obj_loss   cls_loss  Instances       Size\n",
            "      63/99      6.15G     0.0187    0.02697      0.024         33        640: 100% 61/61 [00:45<00:00,  1.34it/s]\n",
            "                 Class     Images  Instances          P          R      mAP50   mAP50-95: 100% 7/7 [00:05<00:00,  1.21it/s]\n",
            "                   all        193        838      0.898      0.881      0.951      0.807\n",
            "\n",
            "      Epoch    GPU_mem   box_loss   obj_loss   cls_loss  Instances       Size\n",
            "      64/99      6.15G    0.01853    0.02732    0.02307         39        640: 100% 61/61 [00:46<00:00,  1.30it/s]\n",
            "                 Class     Images  Instances          P          R      mAP50   mAP50-95: 100% 7/7 [00:05<00:00,  1.24it/s]\n",
            "                   all        193        838      0.902      0.885      0.952      0.814\n",
            "\n",
            "      Epoch    GPU_mem   box_loss   obj_loss   cls_loss  Instances       Size\n",
            "      65/99      6.15G    0.01841    0.02687     0.0241         39        640: 100% 61/61 [00:45<00:00,  1.36it/s]\n",
            "                 Class     Images  Instances          P          R      mAP50   mAP50-95: 100% 7/7 [00:05<00:00,  1.27it/s]\n",
            "                   all        193        838      0.912      0.871      0.949      0.803\n",
            "\n",
            "      Epoch    GPU_mem   box_loss   obj_loss   cls_loss  Instances       Size\n",
            "      66/99      6.15G    0.01806    0.02689    0.02389         44        640: 100% 61/61 [00:45<00:00,  1.35it/s]\n",
            "                 Class     Images  Instances          P          R      mAP50   mAP50-95: 100% 7/7 [00:05<00:00,  1.39it/s]\n",
            "                   all        193        838      0.884      0.889      0.953      0.805\n",
            "\n",
            "      Epoch    GPU_mem   box_loss   obj_loss   cls_loss  Instances       Size\n",
            "      67/99      6.15G     0.0185    0.02657    0.02375         39        640: 100% 61/61 [00:46<00:00,  1.33it/s]\n",
            "                 Class     Images  Instances          P          R      mAP50   mAP50-95: 100% 7/7 [00:04<00:00,  1.41it/s]\n",
            "                   all        193        838      0.883      0.892      0.952      0.818\n",
            "\n",
            "      Epoch    GPU_mem   box_loss   obj_loss   cls_loss  Instances       Size\n",
            "      68/99      6.15G    0.01814    0.02617    0.02319         31        640: 100% 61/61 [00:45<00:00,  1.34it/s]\n",
            "                 Class     Images  Instances          P          R      mAP50   mAP50-95: 100% 7/7 [00:05<00:00,  1.39it/s]\n",
            "                   all        193        838      0.905       0.88      0.951      0.827\n",
            "\n",
            "      Epoch    GPU_mem   box_loss   obj_loss   cls_loss  Instances       Size\n",
            "      69/99      6.15G    0.01792     0.0261     0.0226         17        640: 100% 61/61 [00:46<00:00,  1.31it/s]\n",
            "                 Class     Images  Instances          P          R      mAP50   mAP50-95: 100% 7/7 [00:05<00:00,  1.26it/s]\n",
            "                   all        193        838      0.886      0.877      0.944      0.814\n",
            "\n",
            "      Epoch    GPU_mem   box_loss   obj_loss   cls_loss  Instances       Size\n",
            "      70/99      6.15G    0.01774    0.02567    0.02185         34        640: 100% 61/61 [00:46<00:00,  1.32it/s]\n",
            "                 Class     Images  Instances          P          R      mAP50   mAP50-95: 100% 7/7 [00:04<00:00,  1.41it/s]\n",
            "                   all        193        838      0.887      0.881      0.944      0.815\n",
            "\n",
            "      Epoch    GPU_mem   box_loss   obj_loss   cls_loss  Instances       Size\n",
            "      71/99      6.15G    0.01797    0.02698    0.02236         38        640: 100% 61/61 [00:46<00:00,  1.31it/s]\n",
            "                 Class     Images  Instances          P          R      mAP50   mAP50-95: 100% 7/7 [00:04<00:00,  1.41it/s]\n",
            "                   all        193        838      0.878      0.888      0.948      0.812\n",
            "\n",
            "      Epoch    GPU_mem   box_loss   obj_loss   cls_loss  Instances       Size\n",
            "      72/99      6.15G     0.0175    0.02569    0.02139         21        640: 100% 61/61 [00:46<00:00,  1.31it/s]\n",
            "                 Class     Images  Instances          P          R      mAP50   mAP50-95: 100% 7/7 [00:04<00:00,  1.47it/s]\n",
            "                   all        193        838      0.919      0.876      0.952      0.819\n",
            "\n",
            "      Epoch    GPU_mem   box_loss   obj_loss   cls_loss  Instances       Size\n",
            "      73/99      6.15G    0.01754    0.02586    0.02079         43        640: 100% 61/61 [00:45<00:00,  1.34it/s]\n",
            "                 Class     Images  Instances          P          R      mAP50   mAP50-95: 100% 7/7 [00:05<00:00,  1.19it/s]\n",
            "                   all        193        838      0.906      0.884      0.952      0.829\n",
            "\n",
            "      Epoch    GPU_mem   box_loss   obj_loss   cls_loss  Instances       Size\n",
            "      74/99      6.15G    0.01732    0.02622    0.02147         30        640: 100% 61/61 [00:45<00:00,  1.35it/s]\n",
            "                 Class     Images  Instances          P          R      mAP50   mAP50-95: 100% 7/7 [00:06<00:00,  1.14it/s]\n",
            "                   all        193        838      0.914      0.889      0.955      0.833\n",
            "\n",
            "      Epoch    GPU_mem   box_loss   obj_loss   cls_loss  Instances       Size\n",
            "      75/99      6.15G    0.01728    0.02555    0.02216         35        640: 100% 61/61 [00:47<00:00,  1.28it/s]\n",
            "                 Class     Images  Instances          P          R      mAP50   mAP50-95: 100% 7/7 [00:05<00:00,  1.38it/s]\n",
            "                   all        193        838      0.925      0.891      0.959      0.829\n",
            "\n",
            "      Epoch    GPU_mem   box_loss   obj_loss   cls_loss  Instances       Size\n",
            "      76/99      6.15G    0.01686    0.02546    0.02049         29        640: 100% 61/61 [00:45<00:00,  1.34it/s]\n",
            "                 Class     Images  Instances          P          R      mAP50   mAP50-95: 100% 7/7 [00:05<00:00,  1.17it/s]\n",
            "                   all        193        838      0.928      0.878      0.955      0.826\n",
            "\n",
            "      Epoch    GPU_mem   box_loss   obj_loss   cls_loss  Instances       Size\n",
            "      77/99      6.15G     0.0169    0.02511    0.02099         24        640: 100% 61/61 [00:45<00:00,  1.34it/s]\n",
            "                 Class     Images  Instances          P          R      mAP50   mAP50-95: 100% 7/7 [00:06<00:00,  1.15it/s]\n",
            "                   all        193        838      0.913      0.897      0.955      0.834\n",
            "\n",
            "      Epoch    GPU_mem   box_loss   obj_loss   cls_loss  Instances       Size\n",
            "      78/99      6.15G    0.01709    0.02438    0.02022         38        640: 100% 61/61 [00:45<00:00,  1.34it/s]\n",
            "                 Class     Images  Instances          P          R      mAP50   mAP50-95:  43% 3/7 [00:03<00:04,  1.14s/it]"
          ]
        }
      ]
    },
    {
      "cell_type": "markdown",
      "source": [
        "#Visualize"
      ],
      "metadata": {
        "id": "suvfEQV2R8w1"
      }
    },
    {
      "cell_type": "markdown",
      "source": [
        "Plot some train results"
      ],
      "metadata": {
        "id": "fo-nLmA09Wln"
      }
    },
    {
      "cell_type": "markdown",
      "source": [
        "Show results using Tensorboard"
      ],
      "metadata": {
        "id": "uHDEake9Fsan"
      }
    },
    {
      "cell_type": "code",
      "source": [
        "%load_ext tensorboard\n",
        "%tensorboard --logdir runs/train"
      ],
      "metadata": {
        "id": "Noexg9RaFr2r"
      },
      "execution_count": null,
      "outputs": []
    },
    {
      "cell_type": "markdown",
      "source": [
        "#Evaluation"
      ],
      "metadata": {
        "id": "ur93aUFNskUU"
      }
    },
    {
      "cell_type": "markdown",
      "source": [
        "Detect bounding boxes on test set"
      ],
      "metadata": {
        "id": "Pzf-nnx_FxCZ"
      }
    },
    {
      "cell_type": "code",
      "source": [
        "%cd /content/yolov3\n",
        "\n",
        "!python detect.py --weights runs/train/{PROJECT_NAME}/weights/best.pt --img 640 --conf 0.6 --source /content/datasets/{PROJECT_NAME}/images/test --name {PROJECT_NAME}"
      ],
      "metadata": {
        "id": "vrA0q-B5FzYM"
      },
      "execution_count": null,
      "outputs": []
    },
    {
      "cell_type": "code",
      "source": [
        "%cd /content/yolov3/runs/detect/{PROJECT_NAME}\n",
        "\n",
        "from os import listdir\n",
        "import matplotlib.pyplot as plt\n",
        "from random import sample\n",
        "\n",
        "SIZE = 5\n",
        "_, axarr = plt.subplots(SIZE, SIZE, figsize=(25, 25))\n",
        "\n",
        "image_files = listdir()\n",
        "\n",
        "images = iter(sample([plt.imread(image_name) for image_name in image_files], SIZE ** 2))\n",
        "\n",
        "for r in range(SIZE):\n",
        "    for c in range(SIZE):\n",
        "        axarr[r, c].imshow(next(images))"
      ],
      "metadata": {
        "id": "yz8M3ktV2t2D"
      },
      "execution_count": null,
      "outputs": []
    },
    {
      "cell_type": "markdown",
      "source": [
        "#Video"
      ],
      "metadata": {
        "id": "XhHQYv1H9276"
      }
    },
    {
      "cell_type": "markdown",
      "source": [
        "Try to detect sign language in video"
      ],
      "metadata": {
        "id": "bQbbxK9A94aq"
      }
    },
    {
      "cell_type": "code",
      "source": [
        "%cd /content/yolov3\n",
        "\n",
        "!pip install pafy\n",
        "!pip install youtube_dl==2020.12.2\n",
        "\n",
        "#for c in range(40, 70, 5): \n",
        "!python detect.py --weights /content/yolov3/runs/train/{PROJECT_NAME}/weights/last.pt --img 640 --conf 0.25 --source 'https://www.youtube.com/watch?v=A6hNKlqmlFk' --name {PROJECT_NAME}"
      ],
      "metadata": {
        "id": "nwhNx9E84Xjr"
      },
      "execution_count": null,
      "outputs": []
    }
  ]
}